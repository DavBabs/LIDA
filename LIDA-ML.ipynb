{
 "cells": [
  {
   "cell_type": "code",
   "execution_count": null,
   "id": "b0982fcb-fab0-4613-8a38-0535775dcc45",
   "metadata": {},
   "outputs": [],
   "source": [
    "pip install gym numpy stable-baselines3 matplotlib tensorflow keras keras-rl2"
   ]
  },
  {
   "cell_type": "code",
   "execution_count": 7,
   "id": "4c33e9b7-410c-48f2-924b-b058c179ea6e",
   "metadata": {
    "scrolled": true
   },
   "outputs": [],
   "source": [
    "import gym\n",
    "from gym import spaces\n",
    "import numpy as np"
   ]
  },
  {
   "cell_type": "code",
   "execution_count": null,
   "id": "2319680f-0a32-4474-b6ab-363fcafb0158",
   "metadata": {},
   "outputs": [],
   "source": [
    "class CompostingEnv(gym.Env):\n",
    "    def __init__(self):\n",
    "        super(CompostingEnv, self).__init__()\n",
    "\n",
    "        # Define structured observation space\n",
    "        self.observation_space = spaces.Dict({\n",
    "            \"temperature_active\": spaces.Box(low=0, high=100, shape=(4,), dtype=np.float32),\n",
    "            \"temperature_curing\": spaces.Box(low=0, high=100, shape=(2,), dtype=np.float32),\n",
    "            \"moisture_active\": spaces.Box(low=0, high=100, shape=(2,), dtype=np.float32),\n",
    "            \"moisture_curing\": spaces.Box(low=0, high=100, shape=(2,), dtype=np.float32),\n",
    "            \"gases\": spaces.Dict({\n",
    "                \"co2\": spaces.Box(low=0, high=100, shape=(1,), dtype=np.float32),\n",
    "                \"oxygen\": spaces.Box(low=0, high=100, shape=(1,), dtype=np.float32),\n",
    "                \"methane\": spaces.Box(low=0, high=100, shape=(1,), dtype=np.float32)\n",
    "            }),\n",
    "        })\n",
    "        \n",
    "       # Define the action space with duration for motor and air pump actions\n",
    "        self.action_space = spaces.Dict({\n",
    "            \"motor\": spaces.Dict({\n",
    "                \"id\": spaces.Discrete(2),  # Motor ID: 0, 1\n",
    "                \"duration_ms\": spaces.Box(low=0, high=10000, shape=(1,), dtype=np.float32)\n",
    "            }),\n",
    "            \"actions\": spaces.Tuple([\n",
    "                spaces.Dict({\n",
    "                    \"type\": spaces.Discrete(1),  # Only 1 type here for air_pump\n",
    "                    \"id\": spaces.Discrete(2),  # Air pump ID: 0, 1\n",
    "                    \"duration_ms\": spaces.Box(low=0, high=10000, shape=(1,), dtype=np.float32)\n",
    "                }),\n",
    "                spaces.Dict({\n",
    "                    \"type\": spaces.Discrete(1),  # Only 1 type here for air_pump\n",
    "                    \"id\": spaces.Discrete(2),  # Air pump ID: 0, 1\n",
    "                    \"duration_ms\": spaces.Box(low=0, high=10000, shape=(1,), dtype=np.float32)\n",
    "                })\n",
    "            ])\n",
    "        })\n",
    "        \n",
    "         # Initialize state and any other necessary variables\n",
    "        self.state = self.reset()"
   ]
  }
 ],
 "metadata": {
  "kernelspec": {
   "display_name": "CapstoneML",
   "language": "python",
   "name": "capstoneml"
  },
  "language_info": {
   "codemirror_mode": {
    "name": "ipython",
    "version": 3
   },
   "file_extension": ".py",
   "mimetype": "text/x-python",
   "name": "python",
   "nbconvert_exporter": "python",
   "pygments_lexer": "ipython3",
   "version": "3.12.2"
  }
 },
 "nbformat": 4,
 "nbformat_minor": 5
}
